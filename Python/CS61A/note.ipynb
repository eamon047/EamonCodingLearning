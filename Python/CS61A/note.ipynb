{
 "cells": [
  {
   "cell_type": "markdown",
   "id": "fa4b7c7e",
   "metadata": {},
   "source": [
    "# 基础知识"
   ]
  },
  {
   "cell_type": "markdown",
   "id": "ed6aafed",
   "metadata": {},
   "source": [
    "## 字典常用操作"
   ]
  },
  {
   "cell_type": "markdown",
   "id": "08ecf2d3",
   "metadata": {},
   "source": [
    "#### 创建与访问"
   ]
  },
  {
   "cell_type": "code",
   "execution_count": null,
   "id": "c62b76d1",
   "metadata": {},
   "outputs": [],
   "source": [
    "# 创建字典\n",
    "d = {'a': 1, 'b': 2, 'c': 3}\n",
    "\n",
    "# 访问元素\n",
    "# d[key]：如果 key 不存在会抛 KeyError\n",
    "# d.get(key, default)：找不到时返回 default（默认 None）\n",
    "d['a']\n",
    "d.get('c', 0)"
   ]
  },
  {
   "cell_type": "markdown",
   "id": "a67c8a4d",
   "metadata": {},
   "source": [
    "#### 查看键、值、项"
   ]
  },
  {
   "cell_type": "code",
   "execution_count": null,
   "id": "543f3259",
   "metadata": {},
   "outputs": [],
   "source": [
    "# d.keys() → 返回所有 键 的视图\n",
    "# d.values() → 返回所有 值 的视图\n",
    "# d.items() → 返回 (key, value) 对的视图\n",
    "\n",
    "d = {'x': 10, 'y': 20}\n",
    "list(d.keys())    # ['x', 'y']\n",
    "list(d.values())  # [10, 20]\n",
    "list(d.items())   # [('x', 10), ('y', 20)]"
   ]
  },
  {
   "cell_type": "markdown",
   "id": "b9592d4a",
   "metadata": {},
   "source": [
    "#### 增、改、删"
   ]
  },
  {
   "cell_type": "code",
   "execution_count": null,
   "id": "84cebb9a",
   "metadata": {},
   "outputs": [],
   "source": [
    "# d[key] = val\t新增或修改一个键值对\n",
    "# d.update(other)\t用另一个映射或可迭代的键值对批量更新（合并字典）\n",
    "# d.pop(key[, default])\t删除并返回 key 对应的值；如果不存在，且没给 default，会报错\n",
    "# d.clear()\t清空字典\n",
    "\n",
    "d = {'a': 1, 'b': 2}\n",
    "d['c'] = 3         # 新增\n",
    "d.update({'b': 20, 'd': 4})  # 批量更新\n",
    "d.pop('a')         # 返回 1，d 变成 {'b':20,'c':3,'d':4}\n",
    "d.clear()          # {}"
   ]
  },
  {
   "cell_type": "markdown",
   "id": "1105b621",
   "metadata": {},
   "source": [
    "#### 遍历字典"
   ]
  },
  {
   "cell_type": "code",
   "execution_count": null,
   "id": "8be3c2b7",
   "metadata": {},
   "outputs": [],
   "source": [
    "d = {'a': 1, 'b': 2, 'c': 3}\n",
    "\n",
    "for key in d:            # 遍历键\n",
    "    print(key, d[key])\n",
    "\n",
    "for key, val in d.items():  # 同时遍历键和值\n",
    "    print(key, val)"
   ]
  },
  {
   "cell_type": "markdown",
   "id": "c70f867d78e5023b",
   "metadata": {},
   "source": [
    "# Berkeley-CS61A"
   ]
  },
  {
   "cell_type": "markdown",
   "id": "aa439774fdbf0f52",
   "metadata": {},
   "source": [
    "## Lecture 17 : Iterators"
   ]
  },
  {
   "cell_type": "markdown",
   "id": "6c3a7eaec9437adf",
   "metadata": {},
   "source": [
    "#### Iterators与列表"
   ]
  },
  {
   "cell_type": "code",
   "execution_count": 9,
   "id": "a5826165ade113bc",
   "metadata": {
    "ExecuteTime": {
     "end_time": "2025-01-16T07:14:15.331688Z",
     "start_time": "2025-01-16T07:14:15.328422Z"
    }
   },
   "outputs": [
    {
     "name": "stdout",
     "output_type": "stream",
     "text": [
      "1\n",
      "2\n"
     ]
    }
   ],
   "source": [
    "s = [1 , 2 , 3 , 4 , 5]\n",
    "t = iter(s)\n",
    "print(next(t)) #输出1，iterator移动到指向“2”的状态\n",
    "print(next(t)) #输出2，iterator移动到指向“3”的状态\n",
    "#直到输出5后，再使用next()会出现报错"
   ]
  },
  {
   "cell_type": "code",
   "execution_count": 17,
   "id": "ace4e96e4f410907",
   "metadata": {
    "ExecuteTime": {
     "end_time": "2025-01-16T07:36:49.014042Z",
     "start_time": "2025-01-16T07:36:49.000751Z"
    }
   },
   "outputs": [
    {
     "name": "stdout",
     "output_type": "stream",
     "text": [
      "[1, 2, 3, 4, 5]\n"
     ]
    },
    {
     "ename": "StopIteration",
     "evalue": "",
     "output_type": "error",
     "traceback": [
      "\u001b[0;31m---------------------------------------------------------------------------\u001b[0m",
      "\u001b[0;31mStopIteration\u001b[0m                             Traceback (most recent call last)",
      "Cell \u001b[0;32mIn[17], line 3\u001b[0m\n\u001b[1;32m      1\u001b[0m t \u001b[38;5;241m=\u001b[39m \u001b[38;5;28miter\u001b[39m(s)\n\u001b[1;32m      2\u001b[0m \u001b[38;5;28mprint\u001b[39m(\u001b[38;5;28mlist\u001b[39m(t)) \u001b[38;5;66;03m#从迭代器的当前位置开始，不断调用next()直到遍历完所有的剩余元素，并将这些元素放在一个新的列表中（但这个过程也用完了）迭代器\u001b[39;00m\n\u001b[0;32m----> 3\u001b[0m \u001b[38;5;28;43mnext\u001b[39;49m\u001b[43m(\u001b[49m\u001b[43mt\u001b[49m\u001b[43m)\u001b[49m \u001b[38;5;66;03m#报错，因为在刚才已经将迭代器使用到了末尾\u001b[39;00m\n\u001b[1;32m      4\u001b[0m \u001b[38;5;28;01mdel\u001b[39;00m s , t\n",
      "\u001b[0;31mStopIteration\u001b[0m: "
     ]
    }
   ],
   "source": [
    "#可以使用list, tuple等方式，查看container(iterator)中的所有元素\n",
    "#list(iterable) , tuple(iterable) , sorted(iterable) (返回排序后的list)\n",
    "t = iter(s)\n",
    "print(list(t)) #从迭代器的当前位置开始，不断调用next()直到遍历完所有的剩余元素，并将这些元素放在一个新的列表中（但这个过程也用完了）迭代器\n",
    "next(t) #报错，因为在刚才已经将迭代器使用到了末尾\n",
    "del s , t"
   ]
  },
  {
   "cell_type": "markdown",
   "id": "a266d5fabc8031af",
   "metadata": {},
   "source": [
    "#### Iterators与字典"
   ]
  },
  {
   "cell_type": "code",
   "execution_count": 18,
   "id": "315ad8d6353848a7",
   "metadata": {
    "ExecuteTime": {
     "end_time": "2025-01-16T07:36:59.350010Z",
     "start_time": "2025-01-16T07:36:59.341203Z"
    }
   },
   "outputs": [
    {
     "name": "stdout",
     "output_type": "stream",
     "text": [
      "one,\n",
      "1,\n",
      "('one', 1)\n"
     ]
    }
   ],
   "source": [
    "# iterators可以应用在字典上，对key, value, item都适用\n",
    "d = {\"one\" : 1 , \"two\" : 2 , \"three\" : 3}\n",
    "d[\"zero\"] = 0\n",
    "k = iter(d.keys())\n",
    "v = iter(d.values())\n",
    "i = iter(d.items())\n",
    "\n",
    "print(f\"{next(k)},\\n{next(v)},\\n{next(i)}\")\n",
    "del k, v, i, d"
   ]
  },
  {
   "cell_type": "markdown",
   "id": "e369ecf771599a0c",
   "metadata": {},
   "source": [
    "#### Iterators与迭代器"
   ]
  },
  {
   "cell_type": "code",
   "execution_count": 20,
   "id": "ba652db0b393805",
   "metadata": {
    "ExecuteTime": {
     "end_time": "2025-01-16T07:39:29.828223Z",
     "start_time": "2025-01-16T07:39:29.797001Z"
    }
   },
   "outputs": [
    {
     "name": "stdout",
     "output_type": "stream",
     "text": [
      "3\n",
      "4\n",
      "5\n",
      "True\n"
     ]
    },
    {
     "ename": "StopIteration",
     "evalue": "",
     "output_type": "error",
     "traceback": [
      "\u001b[0;31m---------------------------------------------------------------------------\u001b[0m",
      "\u001b[0;31mStopIteration\u001b[0m                             Traceback (most recent call last)",
      "Cell \u001b[0;32mIn[20], line 8\u001b[0m\n\u001b[1;32m      4\u001b[0m     \u001b[38;5;28mprint\u001b[39m(i)\n\u001b[1;32m      6\u001b[0m \u001b[38;5;28mprint\u001b[39m(\u001b[38;5;28mbool\u001b[39m(ri))\n\u001b[0;32m----> 8\u001b[0m \u001b[38;5;28;43mnext\u001b[39;49m\u001b[43m(\u001b[49m\u001b[43mri\u001b[49m\u001b[43m)\u001b[49m\n",
      "\u001b[0;31mStopIteration\u001b[0m: "
     ]
    }
   ],
   "source": [
    "r = list(range(3 , 6))\n",
    "ri = iter(r)\n",
    "for i in ri:\n",
    "    print(i)\n",
    "\n",
    "print(bool(ri))\n",
    "\n",
    "next(ri) #报错，在上面的迭代过程中，iterators一直在移动标记，此时已经移动到了最后一位"
   ]
  },
  {
   "cell_type": "markdown",
   "id": "818bf2e5016640d5",
   "metadata": {},
   "source": [
    "#### Bulit-in Iterator Functions"
   ]
  },
  {
   "cell_type": "code",
   "execution_count": 21,
   "id": "d1faefd428f20c1a",
   "metadata": {
    "ExecuteTime": {
     "end_time": "2025-01-16T07:52:53.840618Z",
     "start_time": "2025-01-16T07:52:53.814538Z"
    }
   },
   "outputs": [
    {
     "ename": "NameError",
     "evalue": "name 'func' is not defined",
     "output_type": "error",
     "traceback": [
      "\u001b[0;31m---------------------------------------------------------------------------\u001b[0m",
      "\u001b[0;31mNameError\u001b[0m                                 Traceback (most recent call last)",
      "Cell \u001b[0;32mIn[21], line 2\u001b[0m\n\u001b[1;32m      1\u001b[0m \u001b[38;5;66;03m# Many  built-in Python sequence operations return iterators that compute results lazily.\u001b[39;00m\n\u001b[0;32m----> 2\u001b[0m \u001b[38;5;28mmap\u001b[39m(\u001b[43mfunc\u001b[49m , iterable)\n",
      "\u001b[0;31mNameError\u001b[0m: name 'func' is not defined"
     ]
    }
   ],
   "source": [
    "# Many  built-in Python sequence operations return iterators that compute results lazily.\n",
    "# map(func , iterable) : iterate over func(x) for x in iterable\n",
    "# filter(func , iterable) : iterate over x in iterable if func(x)\n",
    "# zip(first_iter , second_iter) : iterate over co-indexed(x , y) pairs\n",
    "# reversed(sequence) : iterate over x in a sequence in reverse order"
   ]
  },
  {
   "cell_type": "code",
   "execution_count": 23,
   "id": "8b1b0d4af7c137f3",
   "metadata": {
    "ExecuteTime": {
     "end_time": "2025-01-16T08:06:01.783359Z",
     "start_time": "2025-01-16T08:06:01.776981Z"
    }
   },
   "outputs": [],
   "source": [
    "# example : 回音文判定器\n",
    "def palindrome(s):\n",
    "    \"\"\"Return whether s is the same backward and forward.\n",
    "\n",
    "    >>> palindrome([3 , 1 , 4 , 1 , 5])\n",
    "    False\n",
    "    >>> palindrome([3 , 1 , 4 , 1 , 3])\n",
    "    True\n",
    "    >>> palindrome(\"seveneves\")\n",
    "    True\n",
    "    >>> palindrome(\"seven eves\")\n",
    "    False\n",
    "    \"\"\"\n",
    "\n",
    "    return all([a == b for a , b in zip(s , reversed(s))])\n",
    "    # return list(s) == list(reversed(s))\n",
    "\n",
    "\n",
    "points = {\"J\" : 10 , \"Q\" : 10 , \"K\" : 10 , \"A\" : 1}\n",
    "\n",
    "def hand_score(hand):\n",
    "    total = sum([points.get(card , card) for card in hand])\n",
    "    if total <= 11 and \"A\" in hand:\n",
    "        return total + 10\n",
    "    return total"
   ]
  },
  {
   "cell_type": "markdown",
   "id": "dbf337bd0f889da",
   "metadata": {},
   "source": [
    "## Lecture 18 : Generators"
   ]
  },
  {
   "cell_type": "markdown",
   "id": "f09b7c95a6be698c",
   "metadata": {},
   "source": [
    "#### Generateor functions"
   ]
  },
  {
   "cell_type": "code",
   "execution_count": 6,
   "id": "2e6012d1d03ab719",
   "metadata": {
    "ExecuteTime": {
     "end_time": "2025-01-23T07:21:31.367338Z",
     "start_time": "2025-01-23T07:21:31.364427Z"
    }
   },
   "outputs": [
    {
     "name": "stdout",
     "output_type": "stream",
     "text": [
      "<generator object plus_minus at 0x1122156d0> 3 -3\n"
     ]
    }
   ],
   "source": [
    "# A generator function is a function that yields values instead of returning them. A normal function returns once; a generator function yield multiple times.\n",
    "# A generator is an iterator created automatically by calling a generator function.\n",
    "def plus_minus(x):\n",
    "    yield x\n",
    "    yield -x\n",
    "\n",
    "t = plus_minus(3)\n",
    "print(t , next(t) , next(t))"
   ]
  },
  {
   "cell_type": "code",
   "execution_count": null,
   "id": "93f073fc88f26769",
   "metadata": {},
   "outputs": [],
   "source": [
    "#可以和迭代器一起使用\n",
    "def a_then_b_1(a , b):\n",
    "    \"\"\"\n",
    "    >>> list(a_then_b_1([3 , 4] , [5 , 6]))\n",
    "    [3 , 4 , 5 ,6]\n",
    "    \"\"\"\n",
    "    for x in a:\n",
    "        yield x\n",
    "    #简化：yield from a\n",
    "    for x in b:\n",
    "        yield x\n",
    "    #简化：yield from b"
   ]
  },
  {
   "cell_type": "markdown",
   "id": "6272424e2943692b",
   "metadata": {},
   "source": [
    "## Lecture 21 : Representations"
   ]
  },
  {
   "cell_type": "markdown",
   "id": "468cd728e416d237",
   "metadata": {},
   "source": [
    "#### String representations"
   ]
  },
  {
   "cell_type": "markdown",
   "id": "b864ad80e243c28e",
   "metadata": {},
   "source": [
    "All objects produce two string representations:\n",
    "- the **str** is legible to humans\n",
    "- the **repr** is legible to Python interpreter\n",
    "\n",
    "the **str** ad **repr** strings are often the same, but nor always"
   ]
  },
  {
   "cell_type": "code",
   "execution_count": 6,
   "id": "c33a45c62a360679",
   "metadata": {
    "ExecuteTime": {
     "end_time": "2025-01-30T09:14:18.676490Z",
     "start_time": "2025-01-30T09:14:18.670417Z"
    }
   },
   "outputs": [
    {
     "name": "stdout",
     "output_type": "stream",
     "text": [
      "Fraction(1, 2)  ,  1/2\n",
      "'Hello world'  ,  Hello world\n"
     ]
    }
   ],
   "source": [
    "from fractions import Fraction\n",
    "half = Fraction(1 , 2)\n",
    "print(repr(half) , \" , \" , str(half))\n",
    "\n",
    "s = \"Hello world\"\n",
    "print(repr(s) , \" , \" , str(s))"
   ]
  },
  {
   "cell_type": "code",
   "execution_count": 10,
   "id": "8c9e5d3cb746c61f",
   "metadata": {
    "ExecuteTime": {
     "end_time": "2025-01-30T09:37:20.497877Z",
     "start_time": "2025-01-30T09:37:20.489602Z"
    }
   },
   "outputs": [
    {
     "name": "stdout",
     "output_type": "stream",
     "text": [
      "Ratio(1/ 2)\n"
     ]
    },
    {
     "data": {
      "text/plain": [
       "Ratio(1 , 2)"
      ]
     },
     "execution_count": 10,
     "metadata": {},
     "output_type": "execute_result"
    }
   ],
   "source": [
    "class Ratio:\n",
    "    def __init__(self, a, b):\n",
    "        self.a = a\n",
    "        self.b = b\n",
    "\n",
    "    def __repr__(self):\n",
    "        return \"Ratio({0} , {1})\".format(self.a, self.b)\n",
    "\n",
    "    def __str__(self):\n",
    "        return \"Ratio({0}/ {1})\".format(self.a, self.b)\n",
    "\n",
    "half = Ratio(1, 2)\n",
    "print(half)# human representation\n",
    "half# python representation"
   ]
  },
  {
   "cell_type": "code",
   "execution_count": 8,
   "id": "f9e69bb5d52b9bb8",
   "metadata": {
    "ExecuteTime": {
     "end_time": "2025-01-30T09:29:07.103986Z",
     "start_time": "2025-01-30T09:29:07.077833Z"
    }
   },
   "outputs": [
    {
     "name": "stdout",
     "output_type": "stream",
     "text": [
      "a bear,\n",
      "a bear,\n",
      "Bear(),\n",
      "this bear,\n",
      "oski\n"
     ]
    }
   ],
   "source": [
    "class Bear:\n",
    "    def __init__(self):\n",
    "        self.__repr__ = lambda : \"oski\"\n",
    "        self.__str__ = lambda : \"this bear\"\n",
    "\n",
    "    def __repr__(self):\n",
    "        return \"Bear()\"\n",
    "\n",
    "    def __str__(self):\n",
    "        return \"a bear\"\n",
    "    #当没有__str__时，会调用__repr__\n",
    "\n",
    "oski = Bear()\n",
    "print(f\"{oski},\\n{str(oski)},\\n{repr(oski)},\\n{oski.__str__()},\\n{oski.__repr__()}.\")"
   ]
  },
  {
   "cell_type": "markdown",
   "id": "50ec99bdc0f9261a",
   "metadata": {},
   "source": [
    "#### special method names in Python"
   ]
  },
  {
   "cell_type": "code",
   "execution_count": null,
   "id": "3b98610445b98901",
   "metadata": {},
   "outputs": [],
   "source": [
    "def function():\n",
    "    def __init__():\n",
    "    # method invoked automatically when an object is constructed\n",
    "    def __repr__():\n",
    "    # method invoked to display an object as a python expression\n",
    "    def __add__():\n",
    "    # method invoked to add one object to another\n",
    "    def __bool__():\n",
    "    # method invoked to convert an object to True or False\n",
    "    def __float__():\n",
    "    # method invoked to convert an object to a float(real number)\n"
   ]
  },
  {
   "cell_type": "code",
   "execution_count": null,
   "id": "e0d44f284710ca52",
   "metadata": {},
   "outputs": [],
   "source": [
    "# __add__举例\n",
    "# 对于自定义的类，默认情况下 + 号是不能使用的。可以通过定义 __add__ 方法，让对象支持加法操作\n",
    "class Point:\n",
    "    def __init__(self, x, y):\n",
    "        self.x = x\n",
    "        self.y = y\n",
    "\n",
    "    def __add__(self, other):\n",
    "        return Point(self.x + other.x, self.y + other.y)\n",
    "\n",
    "    def __repr__(self):\n",
    "        return f\"Point({self.x}, {self.y})\"\n",
    "\n",
    "p1 = Point(1, 2)\n",
    "p2 = Point(3, 4)\n",
    "p3 = p1 + p2  # 等价于 p1.__add__(p2)\n",
    "print(p3)  # 输出: Point(4, 6)\n",
    "# p1 + p2 实际上调用 p1.__add__(p2)，并返回新的 Point 对象"
   ]
  },
  {
   "cell_type": "code",
   "execution_count": null,
   "id": "aa485a7469f84c5f",
   "metadata": {},
   "outputs": [],
   "source": [
    "# __bool__举例\n",
    "# __bool__ 方法用于 定义对象的布尔值，当对象用于 if 语句或者 bool(obj) 时，它会被自动调用\n",
    "class BankAccount:\n",
    "    def __init__(self, balance):\n",
    "        self.balance = balance\n",
    "\n",
    "    def __bool__(self):\n",
    "        return self.balance > 0\n",
    "\n",
    "account1 = BankAccount(100)\n",
    "account2 = BankAccount(0)\n",
    "\n",
    "print(bool(account1))  # True\n",
    "print(bool(account2))  # False\n",
    "\n",
    "if account1:\n",
    "    print(\"Account has money!\")  # 这行会被执行\n",
    "if account2:\n",
    "    print(\"Account has money!\")  # 这行不会被执行\n",
    "# 这使得可以在 if 语句中直接使用 account1 和 account2 进行判断，而不需要 if account1.balance > 0: 这种额外的检查"
   ]
  },
  {
   "cell_type": "code",
   "execution_count": 18,
   "id": "341a8cd843468bdf",
   "metadata": {
    "ExecuteTime": {
     "end_time": "2025-01-30T10:20:58.135333Z",
     "start_time": "2025-01-30T10:20:57.581088Z"
    }
   },
   "outputs": [
    {
     "data": {
      "text/plain": [
       "2692537"
      ]
     },
     "execution_count": 18,
     "metadata": {},
     "output_type": "execute_result"
    }
   ],
   "source": [
    "@count\n",
    "def fib(n):\n",
    "    if n == 0 or n == 1:\n",
    "        return n\n",
    "    else:\n",
    "        return fib(n-1) + fib(n-2)\n",
    "\n",
    "def count(f):\n",
    "    def counted(n):\n",
    "        counted.call_count += 1\n",
    "        return f(n)\n",
    "    counted.call_count = 0\n",
    "    return counted\n",
    "\n",
    "fib(30)\n",
    "fib.call_count"
   ]
  },
  {
   "cell_type": "markdown",
   "id": "c8c027bec3a2c18f",
   "metadata": {},
   "source": [
    "## Lecture 25 : Lists"
   ]
  },
  {
   "cell_type": "markdown",
   "id": "b1c833312082dbfc",
   "metadata": {},
   "source": [
    "向list中添加内容"
   ]
  },
  {
   "cell_type": "code",
   "execution_count": 1,
   "id": "af511cff24ac7581",
   "metadata": {
    "ExecuteTime": {
     "end_time": "2025-02-02T10:47:37.331609Z",
     "start_time": "2025-02-02T10:47:37.325118Z"
    }
   },
   "outputs": [
    {
     "name": "stdout",
     "output_type": "stream",
     "text": [
      "[1, 2, [3, 5]]\n"
     ]
    }
   ],
   "source": [
    "# append : 将整个对象添加到列表的末尾。如果是列表，会作为整体添加\n",
    "s = [1 , 2]\n",
    "t = [3 , 4]\n",
    "s.append(t)\n",
    "t[1] = 5\n",
    "print(s)"
   ]
  },
  {
   "cell_type": "code",
   "execution_count": 2,
   "id": "10e97705c15f7478",
   "metadata": {
    "ExecuteTime": {
     "end_time": "2025-02-02T10:49:04.330581Z",
     "start_time": "2025-02-02T10:49:04.323180Z"
    }
   },
   "outputs": [
    {
     "name": "stdout",
     "output_type": "stream",
     "text": [
      "[1, 2, 3, 4]\n"
     ]
    }
   ],
   "source": [
    "# entend : 将另一个可迭代对象（列表，元组，字符串等）的元素逐个添加到原列表的末尾，参数需要是可迭代对象\n",
    "s = [1 , 2]\n",
    "t = [3 , 4]\n",
    "s.extend(t)\n",
    "t[1] = 5\n",
    "print(s)"
   ]
  },
  {
   "cell_type": "markdown",
   "id": "5b28854d5b9b9de8",
   "metadata": {},
   "source": [
    "#### Using Built-In functions"
   ]
  },
  {
   "cell_type": "code",
   "execution_count": 2,
   "id": "bb276a8083b4087a",
   "metadata": {
    "ExecuteTime": {
     "end_time": "2025-02-02T12:01:18.960790Z",
     "start_time": "2025-02-02T12:01:18.957133Z"
    }
   },
   "outputs": [],
   "source": [
    "def min_abs_indices(s):\n",
    "    \"\"\"Indices of all elements in list s that has the smallest absolute value.\n",
    "\n",
    "    >>> min_abs_indices([-4 , -3 , -2 , 3 , 2 , 5])\n",
    "    [2 , 4]\n",
    "    >>> min_abs_indices([1 , 2 , 3 , 4 , 5])\n",
    "    [0]\n",
    "    \"\"\"\n",
    "\n",
    "    min_abs = min(map(abs, s))\n",
    "    return [i for i in range(len(s)) if abs(s[i]) == min_abs]"
   ]
  },
  {
   "cell_type": "code",
   "execution_count": 1,
   "id": "220af9b656c2dd02",
   "metadata": {
    "ExecuteTime": {
     "end_time": "2025-02-02T12:01:17.650227Z",
     "start_time": "2025-02-02T12:01:17.643683Z"
    }
   },
   "outputs": [],
   "source": [
    "def largest_adj_sum(s):\n",
    "    \"\"\"Largest sum of two adjacent elements in a list s.\n",
    "\n",
    "    >>>largest_adj_sum([-4 , -3 , -2 , 3 , 2 , 4])\n",
    "    6\n",
    "    >>> largest_adj_sum([-4 , 3 , -2 , -3 , 2 , -4])\n",
    "    1\n",
    "    \"\"\"\n",
    "\n",
    "    return max([s[i] + s[i + 1] for i in range(len(s) - 1)])\n",
    "\n",
    "    # return max([a + b for a , b in zip(s[:-1] , s[1:])])"
   ]
  },
  {
   "cell_type": "code",
   "execution_count": 3,
   "id": "be6e64309dad3ee",
   "metadata": {
    "ExecuteTime": {
     "end_time": "2025-02-02T12:02:09.617911Z",
     "start_time": "2025-02-02T12:02:09.612638Z"
    }
   },
   "outputs": [],
   "source": [
    "def digit_dict(s):\n",
    "    \"\"\"Map each digit d to the lists of elements in s that end with d.\n",
    "\n",
    "    >>> digit_dict([5 , 8 , 13 , 21 , 34 , 55 , 89])\n",
    "    {1: [21], 3: [13], 4: [34], 5: [5 , 55], 8: [8], 9: [89]}\n",
    "    \"\"\"\n",
    "\n",
    "    {d : [x for x in s if x % 10 == d] for d in range(10) if any([x % 10 == d for x in s])}"
   ]
  },
  {
   "cell_type": "code",
   "execution_count": 6,
   "id": "43afac07a328f8cd",
   "metadata": {
    "ExecuteTime": {
     "end_time": "2025-02-02T12:05:58.331122Z",
     "start_time": "2025-02-02T12:05:58.326388Z"
    }
   },
   "outputs": [
    {
     "data": {
      "text/plain": [
       "False"
      ]
     },
     "execution_count": 6,
     "metadata": {},
     "output_type": "execute_result"
    }
   ],
   "source": [
    "def all_have_an_equal(s):\n",
    "    \"\"\"Does every element equal some other element in s?\n",
    "\n",
    "    >>> all_have_an_equal([-4 , -3 , -2 , 3 , 2 , 4])\n",
    "    False\n",
    "    >>> all_have_an_equal([4 , 3 , 2 , 3 , 2 , 4])\n",
    "    True\n",
    "    \"\"\"\n",
    "    return all([s[i] in s[:i] + s[i + 1:] for i in range(len(s))])\n",
    "\n",
    "    # return min([sum([1 for y in s if y == x]) for x in s]) > 1\n",
    "    # return ([s.count(x) for x in s]) > 1"
   ]
  },
  {
   "cell_type": "markdown",
   "id": "3b2e23e7b1158e32",
   "metadata": {},
   "source": [
    "## Lecture 29 : Calculator"
   ]
  },
  {
   "cell_type": "markdown",
   "id": "467d437f11f0d902",
   "metadata": {},
   "source": [
    "#### Exceptions"
   ]
  },
  {
   "cell_type": "code",
   "execution_count": null,
   "id": "bea5cfce7059df16",
   "metadata": {},
   "outputs": [],
   "source": [
    "# raise在python中用于主动抛出异常，让程序在遇到指定错误时停止执行，并返回错误信息\n",
    "# 可以和try-except共同使用，捕获异常并防止程序崩溃\n",
    "def get_age():\n",
    "    age = input(\"请输入您的年龄: \")\n",
    "\n",
    "    try:\n",
    "        age = int(age)  # 转换为整数\n",
    "        if age < 0:\n",
    "            raise ValueError(\"年龄不能是负数!\")  # 主动抛出异常\n",
    "        print(f\"您的年龄是 {age} 岁\")\n",
    "\n",
    "    except ValueError as e:  # 捕获 `ValueError` 异常\n",
    "        print(f\"输入错误: {e}\")\n",
    "\n",
    "# 调用函数\n",
    "get_age()\n",
    "\n",
    "# 如果try中的代码报错，且错误类型在except中存在，程序就不会直接报错，而是执行except中的内容\n",
    "# Python中常见的内置异常类型(exception class)\n",
    "# ValueError\t        值错误，比如 int(\"abc\")\n",
    "# TypeError\t            类型错误，比如 1 + \"a\"\n",
    "# ZeroDivisionError\t    除以 0，比如 1 / 0\n",
    "# IndexError\t        列表索引超出范围，比如 lst[10]（列表长度小于 10）\n",
    "# KeyError\t            字典键不存在，比如 d[\"不存在的键\"]\n",
    "# FileNotFoundError\t    试图打开一个不存在的文件\n",
    "# AttributeError\t    访问对象不存在的属性，比如 None.x\n"
   ]
  },
  {
   "cell_type": "code",
   "execution_count": 4,
   "id": "7f5b95d854cba927",
   "metadata": {
    "ExecuteTime": {
     "end_time": "2025-02-04T05:16:52.054261Z",
     "start_time": "2025-02-04T05:16:49.549935Z"
    }
   },
   "outputs": [
    {
     "name": "stdout",
     "output_type": "stream",
     "text": [
      "输入的不是一个数字！invalid literal for int() with base 10: 'ac'\n",
      "程序结束。\n"
     ]
    }
   ],
   "source": [
    "# try-except详细执行流程\n",
    "try:\n",
    "    num = int(input(\"输入一个数字: \"))\n",
    "    print(f\"你输入的数字是 {num}\")\n",
    "    # 这里放可能会出错的代码\n",
    "except ValueError:\n",
    "    print(f\"输入的不是一个数字!\")\n",
    "    # 这里放当错误发生时要执行的代码\n",
    "else:\n",
    "    print(\"输入成功，没有发生错误！\")\n",
    "    # 这里放当 `try` 没有发生错误时要执行的代码\n",
    "finally:\n",
    "    print(\"程序结束。\")\n",
    "    # 这里的代码无论是否发生错误都会执行"
   ]
  },
  {
   "cell_type": "code",
   "execution_count": 1,
   "id": "a573b66755174740",
   "metadata": {
    "ExecuteTime": {
     "end_time": "2025-02-04T05:13:28.658755Z",
     "start_time": "2025-02-04T05:13:28.648549Z"
    }
   },
   "outputs": [
    {
     "data": {
      "text/plain": [
       "\"unsupported operand type(s) for /: 'int' and 'builtin_function_or_method'\""
      ]
     },
     "execution_count": 1,
     "metadata": {},
     "output_type": "execute_result"
    }
   ],
   "source": [
    "def myfunc(x):\n",
    "    try:\n",
    "        return 1/x\n",
    "    except TypeError as e:\n",
    "        return str(e)\n",
    "\n",
    "myfunc(abs)"
   ]
  },
  {
   "cell_type": "markdown",
   "id": "41d9810f7e43c97d",
   "metadata": {},
   "source": [
    "## Lecture 31 : Tail calls"
   ]
  },
  {
   "cell_type": "markdown",
   "id": "e9209fed0ed9bb81",
   "metadata": {},
   "source": [
    "Tail Call（尾调用）在**递归优化**里是一个很重要的概念，尤其在**函数式编程**（比如 Scheme、Lisp）里很常见.\n",
    "\n",
    "尾调用（Tail Call）是函数的最后一步直接返回另一个函数的调用结果，而不需要再进行额外的计算。尾调用的关键特性为：\n",
    "- 函数调用是最后一个操作（没有其他额外计算）。\n",
    "- 当前函数的栈帧（stack frame）可以被直接复用（不会占用额外的内存）。\n",
    "\n",
    "如果语言支持尾递归优化（TCO），那么尾递归的代码会被优化成一个 while 循环，根本不会创建新的栈帧。Scheme 是函数式编程语言，它鼓励使用递归而不是显式循环（for / while）。\n",
    "\n",
    "Pythonic 方式会用 while 代替递归。"
   ]
  },
  {
   "cell_type": "code",
   "execution_count": 1,
   "id": "6179245cbc124879",
   "metadata": {
    "ExecuteTime": {
     "end_time": "2025-02-04T11:16:05.832588Z",
     "start_time": "2025-02-04T11:16:05.824252Z"
    }
   },
   "outputs": [
    {
     "ename": "SyntaxError",
     "evalue": "invalid syntax (34539597.py, line 2)",
     "output_type": "error",
     "traceback": [
      "\u001b[0;36m  Cell \u001b[0;32mIn[1], line 2\u001b[0;36m\u001b[0m\n\u001b[0;31m    (define (length s)\u001b[0m\n\u001b[0m                    ^\u001b[0m\n\u001b[0;31mSyntaxError\u001b[0m\u001b[0;31m:\u001b[0m invalid syntax\n"
     ]
    }
   ],
   "source": [
    "# 非尾递归 ：在普通递归的情况下（length），每个栈帧都必须 等待子递归的返回值，所以 旧的栈帧不能丢弃，必须全部保留。\n",
    "# (define (length s)\n",
    "#     (if (null? s) 0\n",
    "#         (+ 1 (length (cdr s)))))\n",
    "#\n",
    "# 过程\n",
    "# (length '(a b c))\n",
    "# = (+ 1 (length '(b c)))      ; 进入新的 frame，但必须等待计算\n",
    "# = (+ 1 (+ 1 (length '(c))))  ; 进入新的 frame，但必须等待计算\n",
    "# = (+ 1 (+ 1 (+ 1 (length '()))))  ; 进入新的 frame，但必须等待计算\n",
    "# = (+ 1 (+ 1 (+ 1 0)))  ; 递归到底，开始回溯\n",
    "# = (+ 1 (+ 1 1))\n",
    "# = (+ 1 2)\n",
    "# = 3"
   ]
  },
  {
   "cell_type": "code",
   "execution_count": null,
   "id": "9d5fae7102b8ca3f",
   "metadata": {},
   "outputs": [],
   "source": [
    "# 尾递归： 在尾递归的情况下（length-tail），每次递归调用都会进入 新的栈帧，但可以立即丢弃旧的栈帧，因为 当前调用不依赖之前的调用结果。\n",
    "# (define (length-tail s)\n",
    "#     (define (length-iter s n)\n",
    "#         (if (null? s) n\n",
    "#             (length-iter (cdr s) (+ 1 n))))\n",
    "#     (length-iter s 0))\n",
    "# 过程\n",
    "# (length-tail '(a b c))\n",
    "# = (length-iter '(a b c) 0)  ; 进入新的 frame（可以丢弃旧的 frame）\n",
    "# = (length-iter '(b c) 1)    ; 进入新的 frame（丢弃前一个 frame）\n",
    "# = (length-iter '(c) 2)      ; 进入新的 frame（丢弃前一个 frame）\n",
    "# = (length-iter '() 3)       ; 进入新的 frame（丢弃前一个 frame）\n",
    "# = 3                         ; 递归结束"
   ]
  }
 ],
 "metadata": {
  "kernelspec": {
   "display_name": "base",
   "language": "python",
   "name": "python3"
  },
  "language_info": {
   "codemirror_mode": {
    "name": "ipython",
    "version": 2
   },
   "file_extension": ".py",
   "mimetype": "text/x-python",
   "name": "python",
   "nbconvert_exporter": "python",
   "pygments_lexer": "ipython2",
   "version": "3.9.19"
  }
 },
 "nbformat": 4,
 "nbformat_minor": 5
}
